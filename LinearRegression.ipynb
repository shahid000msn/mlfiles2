import numpy as np
import plotly.express as px
import plotly.graph_objects as go
from sklearn.model_selection import train_test_split
from sklearn.linear_model import LinearRegression

np.random.seed(0)
x=np.linspace(0,10,100)
y=3*x**2+2*x+np.random.normal(0,10,100)


x_train, x_test,y_train,y_test = train_test_split(x,y , test_size=0.2,random_state=42)

model=LinearRegression()
x_train=x_train.reshape(-1,1)

model.fit(x_train,y_train)



 x_test=x_test.reshape(-1,1)
 y_pred=model.predict(x_test)

fig=go.Figure()
fig.add_trace(go.Scatter(x=x_test.flatten(), y=y_test, mode='markers',name='Actual Data'))
fig.add_trace(go.Scatter(x=x_test.flatten(), y=y_pred, mode='lines',name='Linear Regression Line'))
fig.update_layout(title='Linear Regression',xaxis_title='Independent Variable (x)', yaxis_title='Dependent Variable (y)')
fig.show()


